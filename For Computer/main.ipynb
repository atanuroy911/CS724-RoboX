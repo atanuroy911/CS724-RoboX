{
 "cells": [
  {
   "cell_type": "code",
   "execution_count": null,
   "id": "2bea9934",
   "metadata": {},
   "outputs": [],
   "source": [
    "#!pip install speechrecognition\n",
    "#!pip install libasound2-dev portaudio19-dev libportaudio2 libportaudiocpp0 ffmpeg\n",
    "#!pip install PyAudio\n",
    "# take voice input\n",
    "import import_ipynb\n",
    "import speech_recognition as sr\n",
    "from text_to_speech import textToSpeech\n",
    "from initializer import initialize\n",
    "from predict_answer import predictAnswer\n",
    "import pandas as pd\n",
    "\n",
    "def main():\n",
    "    r = sr.Recognizer()\n",
    "    mic = sr.Microphone()\n",
    "    tokenizer,labelEncoder,responses = initialize()\n",
    "    while True:\n",
    "        with mic as source:\n",
    "            print(\"ask anything:\")\n",
    "            audio = r.listen(source)\n",
    "\n",
    "            try:\n",
    "                question = r.recognize_google(audio)\n",
    "                #textToSpeech(question)\n",
    "                print(\"You:::: \",question)\n",
    "                answer = predictAnswer(tokenizer,labelEncoder,responses,question)\n",
    "                textToSpeech(answer)\n",
    "            except sr.RequestError:\n",
    "                print(\"unable to catch words\")\n",
    "            except sr.UnknownValueError:\n",
    "                print(\"unknown value error\")\n",
    "                \n",
    "if __name__ == \"__main__\":\n",
    "    main()"
   ]
  },
  {
   "cell_type": "code",
   "execution_count": null,
   "id": "9aea5aff",
   "metadata": {},
   "outputs": [],
   "source": []
  }
 ],
 "metadata": {
  "kernelspec": {
   "display_name": "Python 3 (ipykernel)",
   "language": "python",
   "name": "python3"
  },
  "language_info": {
   "codemirror_mode": {
    "name": "ipython",
    "version": 3
   },
   "file_extension": ".py",
   "mimetype": "text/x-python",
   "name": "python",
   "nbconvert_exporter": "python",
   "pygments_lexer": "ipython3",
   "version": "3.11.3"
  }
 },
 "nbformat": 4,
 "nbformat_minor": 5
}
