{
 "cells": [
  {
   "cell_type": "code",
   "execution_count": 4,
   "id": "aa1990f3",
   "metadata": {},
   "outputs": [
    {
     "name": "stdout",
     "output_type": "stream",
     "text": [
      "Model: \"model_1\"\n",
      "_________________________________________________________________\n",
      " Layer (type)                Output Shape              Param #   \n",
      "=================================================================\n",
      " input_2 (InputLayer)        [(None, 22)]              0         \n",
      "                                                                 \n",
      " embedding_1 (Embedding)     (None, 22, 10)            7220      \n",
      "                                                                 \n",
      " lstm_1 (LSTM)               (None, 22, 10)            840       \n",
      "                                                                 \n",
      " flatten_1 (Flatten)         (None, 220)               0         \n",
      "                                                                 \n",
      " dense_1 (Dense)             (None, 129)               28509     \n",
      "                                                                 \n",
      "=================================================================\n",
      "Total params: 36569 (142.85 KB)\n",
      "Trainable params: 36569 (142.85 KB)\n",
      "Non-trainable params: 0 (0.00 Byte)\n",
      "_________________________________________________________________\n",
      "You : hi\n"
     ]
    },
    {
     "ename": "NameError",
     "evalue": "name 'tokenizer' is not defined",
     "output_type": "error",
     "traceback": [
      "\u001b[1;31m---------------------------------------------------------------------------\u001b[0m",
      "\u001b[1;31mNameError\u001b[0m                                 Traceback (most recent call last)",
      "Cell \u001b[1;32mIn[4], line 29\u001b[0m\n\u001b[0;32m     26\u001b[0m texts_p\u001b[38;5;241m.\u001b[39mappend(prediction_input)\n\u001b[0;32m     28\u001b[0m \u001b[38;5;66;03m# tokenizing and padding\u001b[39;00m\n\u001b[1;32m---> 29\u001b[0m prediction_input \u001b[38;5;241m=\u001b[39m tokenizer\u001b[38;5;241m.\u001b[39mtexts_to_sequences(texts_p)\n\u001b[0;32m     30\u001b[0m prediction_input \u001b[38;5;241m=\u001b[39m np\u001b[38;5;241m.\u001b[39marray(prediction_input)\u001b[38;5;241m.\u001b[39mreshape(\u001b[38;5;241m-\u001b[39m\u001b[38;5;241m1\u001b[39m)\n\u001b[0;32m     31\u001b[0m prediction_input \u001b[38;5;241m=\u001b[39m pad_sequences([prediction_input],input_shape)\n",
      "\u001b[1;31mNameError\u001b[0m: name 'tokenizer' is not defined"
     ]
    }
   ],
   "source": [
    "# code to save mode in pb format and load it for testing purpose\n",
    "#from keras.models import load_model\n",
    "from tensorflow import keras\n",
    "import random\n",
    "import pandas as pd\n",
    "import string\n",
    "import numpy as np\n",
    "from tensorflow.keras.preprocessing.sequence import pad_sequences\n",
    "\n",
    "new_model = keras.models.load_model(\"sensing_nlp.h5\")\n",
    "new_model.summary()\n",
    "\n",
    "input_shape = 22\n",
    "\n",
    "def predictAnswer(tokenizer,labelEncoder,responses, question):\n",
    "    texts_p=[]\n",
    "\n",
    "    # removing punctuation and converting to lowercase\n",
    "    prediction_input = [letters.lower() for letters in question if letters not in string.punctuation]\n",
    "    prediction_input = ''.join(prediction_input)\n",
    "    texts_p.append(prediction_input)\n",
    "\n",
    "    # tokenizing and padding\n",
    "    prediction_input = tokenizer.texts_to_sequences(texts_p)\n",
    "    prediction_input = np.array(prediction_input).reshape(-1)\n",
    "    prediction_input = pad_sequences([prediction_input],input_shape)\n",
    "\n",
    "    output= new_model.predict(prediction_input)\n",
    "    output = output.argmax()\n",
    "\n",
    "    response_tag = labelEncoder.inverse_transform([output])[0]\n",
    "    answer = random.choice(responses[response_tag])\n",
    "    print(\"ROBO ASSISTANT X::: \",answer)\n",
    "    return answer"
   ]
  },
  {
   "cell_type": "code",
   "execution_count": null,
   "id": "fb669f1a",
   "metadata": {},
   "outputs": [],
   "source": []
  }
 ],
 "metadata": {
  "kernelspec": {
   "display_name": "Python 3 (ipykernel)",
   "language": "python",
   "name": "python3"
  },
  "language_info": {
   "codemirror_mode": {
    "name": "ipython",
    "version": 3
   },
   "file_extension": ".py",
   "mimetype": "text/x-python",
   "name": "python",
   "nbconvert_exporter": "python",
   "pygments_lexer": "ipython3",
   "version": "3.11.3"
  }
 },
 "nbformat": 4,
 "nbformat_minor": 5
}
