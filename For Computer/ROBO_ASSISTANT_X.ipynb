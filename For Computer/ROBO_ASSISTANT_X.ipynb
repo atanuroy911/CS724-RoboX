{
 "cells": [
  {
   "cell_type": "code",
   "execution_count": 1,
   "metadata": {
    "id": "n_h-cVFa_k8g"
   },
   "outputs": [],
   "source": [
    "import tensorflow as tf\n",
    "import numpy as np\n",
    "import pandas as pd\n",
    "import json\n",
    "import nltk\n",
    "from tensorflow.keras.preprocessing.text import Tokenizer\n",
    "from tensorflow.keras.layers import Embedding, LSTM, Dense, Bidirectional, Input, Flatten\n",
    "from tensorflow.keras.models import Model\n",
    "from tensorflow.keras.models import Sequential\n",
    "import matplotlib.pyplot as plt"
   ]
  },
  {
   "cell_type": "code",
   "execution_count": 2,
   "metadata": {
    "id": "HHfmntUwctRU"
   },
   "outputs": [],
   "source": [
    "# importing the dataset\n",
    "with open('content.json') as content:\n",
    "    data = json.load(content)"
   ]
  },
  {
   "cell_type": "code",
   "execution_count": 3,
   "metadata": {
    "id": "o8P7ML_Ba3pz"
   },
   "outputs": [],
   "source": [
    "# getting all the data to lists\n",
    "tags = []\n",
    "inputs = []\n",
    "responses = {}\n",
    "for intent in data['intents']:\n",
    "    responses[intent['tag']] = intent['responses']\n",
    "    for lines in intent['input']:\n",
    "        inputs.append(lines)\n",
    "        tags.append(intent['tag'])"
   ]
  },
  {
   "cell_type": "code",
   "execution_count": 4,
   "metadata": {
    "id": "ao9Hy-AMa5mx"
   },
   "outputs": [],
   "source": [
    "# converting to dataframe\n",
    "data = pd.DataFrame({\"inputs\":inputs,\n",
    "                    \"tags\":tags})"
   ]
  },
  {
   "cell_type": "code",
   "execution_count": 5,
   "metadata": {
    "colab": {
     "base_uri": "https://localhost:8080/",
     "height": 424
    },
    "id": "QjkoPwBqa73W",
    "outputId": "aaaa6727-a0eb-45c0-8a62-6594a2cc002d"
   },
   "outputs": [
    {
     "data": {
      "text/html": [
       "<div>\n",
       "<style scoped>\n",
       "    .dataframe tbody tr th:only-of-type {\n",
       "        vertical-align: middle;\n",
       "    }\n",
       "\n",
       "    .dataframe tbody tr th {\n",
       "        vertical-align: top;\n",
       "    }\n",
       "\n",
       "    .dataframe thead th {\n",
       "        text-align: right;\n",
       "    }\n",
       "</style>\n",
       "<table border=\"1\" class=\"dataframe\">\n",
       "  <thead>\n",
       "    <tr style=\"text-align: right;\">\n",
       "      <th></th>\n",
       "      <th>inputs</th>\n",
       "      <th>tags</th>\n",
       "    </tr>\n",
       "  </thead>\n",
       "  <tbody>\n",
       "    <tr>\n",
       "      <th>0</th>\n",
       "      <td>Hi</td>\n",
       "      <td>greeting</td>\n",
       "    </tr>\n",
       "    <tr>\n",
       "      <th>1</th>\n",
       "      <td>How are you?</td>\n",
       "      <td>greeting</td>\n",
       "    </tr>\n",
       "    <tr>\n",
       "      <th>2</th>\n",
       "      <td>Is anyone there?</td>\n",
       "      <td>greeting</td>\n",
       "    </tr>\n",
       "    <tr>\n",
       "      <th>3</th>\n",
       "      <td>Hello</td>\n",
       "      <td>greeting</td>\n",
       "    </tr>\n",
       "    <tr>\n",
       "      <th>4</th>\n",
       "      <td>Good day</td>\n",
       "      <td>greeting</td>\n",
       "    </tr>\n",
       "    <tr>\n",
       "      <th>...</th>\n",
       "      <td>...</td>\n",
       "      <td>...</td>\n",
       "    </tr>\n",
       "    <tr>\n",
       "      <th>453</th>\n",
       "      <td>Go right</td>\n",
       "      <td>right</td>\n",
       "    </tr>\n",
       "    <tr>\n",
       "      <th>454</th>\n",
       "      <td>Right</td>\n",
       "      <td>right</td>\n",
       "    </tr>\n",
       "    <tr>\n",
       "      <th>455</th>\n",
       "      <td>Take a right</td>\n",
       "      <td>right</td>\n",
       "    </tr>\n",
       "    <tr>\n",
       "      <th>456</th>\n",
       "      <td>Rightward</td>\n",
       "      <td>right</td>\n",
       "    </tr>\n",
       "    <tr>\n",
       "      <th>457</th>\n",
       "      <td>Right turn</td>\n",
       "      <td>right</td>\n",
       "    </tr>\n",
       "  </tbody>\n",
       "</table>\n",
       "<p>458 rows × 2 columns</p>\n",
       "</div>"
      ],
      "text/plain": [
       "               inputs      tags\n",
       "0                  Hi  greeting\n",
       "1        How are you?  greeting\n",
       "2    Is anyone there?  greeting\n",
       "3               Hello  greeting\n",
       "4            Good day  greeting\n",
       "..                ...       ...\n",
       "453          Go right     right\n",
       "454             Right     right\n",
       "455      Take a right     right\n",
       "456         Rightward     right\n",
       "457        Right turn     right\n",
       "\n",
       "[458 rows x 2 columns]"
      ]
     },
     "execution_count": 5,
     "metadata": {},
     "output_type": "execute_result"
    }
   ],
   "source": [
    "#print the data\n",
    "data"
   ]
  },
  {
   "cell_type": "code",
   "execution_count": 6,
   "metadata": {
    "colab": {
     "base_uri": "https://localhost:8080/",
     "height": 424
    },
    "id": "O9S7A3xba-Nj",
    "outputId": "e877cb8f-7001-48c6-c274-e9e89a20b4a6"
   },
   "outputs": [
    {
     "data": {
      "text/html": [
       "<div>\n",
       "<style scoped>\n",
       "    .dataframe tbody tr th:only-of-type {\n",
       "        vertical-align: middle;\n",
       "    }\n",
       "\n",
       "    .dataframe tbody tr th {\n",
       "        vertical-align: top;\n",
       "    }\n",
       "\n",
       "    .dataframe thead th {\n",
       "        text-align: right;\n",
       "    }\n",
       "</style>\n",
       "<table border=\"1\" class=\"dataframe\">\n",
       "  <thead>\n",
       "    <tr style=\"text-align: right;\">\n",
       "      <th></th>\n",
       "      <th>inputs</th>\n",
       "      <th>tags</th>\n",
       "    </tr>\n",
       "  </thead>\n",
       "  <tbody>\n",
       "    <tr>\n",
       "      <th>0</th>\n",
       "      <td>hi</td>\n",
       "      <td>greeting</td>\n",
       "    </tr>\n",
       "    <tr>\n",
       "      <th>1</th>\n",
       "      <td>how are you</td>\n",
       "      <td>greeting</td>\n",
       "    </tr>\n",
       "    <tr>\n",
       "      <th>2</th>\n",
       "      <td>is anyone there</td>\n",
       "      <td>greeting</td>\n",
       "    </tr>\n",
       "    <tr>\n",
       "      <th>3</th>\n",
       "      <td>hello</td>\n",
       "      <td>greeting</td>\n",
       "    </tr>\n",
       "    <tr>\n",
       "      <th>4</th>\n",
       "      <td>good day</td>\n",
       "      <td>greeting</td>\n",
       "    </tr>\n",
       "    <tr>\n",
       "      <th>...</th>\n",
       "      <td>...</td>\n",
       "      <td>...</td>\n",
       "    </tr>\n",
       "    <tr>\n",
       "      <th>453</th>\n",
       "      <td>go right</td>\n",
       "      <td>right</td>\n",
       "    </tr>\n",
       "    <tr>\n",
       "      <th>454</th>\n",
       "      <td>right</td>\n",
       "      <td>right</td>\n",
       "    </tr>\n",
       "    <tr>\n",
       "      <th>455</th>\n",
       "      <td>take a right</td>\n",
       "      <td>right</td>\n",
       "    </tr>\n",
       "    <tr>\n",
       "      <th>456</th>\n",
       "      <td>rightward</td>\n",
       "      <td>right</td>\n",
       "    </tr>\n",
       "    <tr>\n",
       "      <th>457</th>\n",
       "      <td>right turn</td>\n",
       "      <td>right</td>\n",
       "    </tr>\n",
       "  </tbody>\n",
       "</table>\n",
       "<p>458 rows × 2 columns</p>\n",
       "</div>"
      ],
      "text/plain": [
       "              inputs      tags\n",
       "0                 hi  greeting\n",
       "1        how are you  greeting\n",
       "2    is anyone there  greeting\n",
       "3              hello  greeting\n",
       "4           good day  greeting\n",
       "..               ...       ...\n",
       "453         go right     right\n",
       "454            right     right\n",
       "455     take a right     right\n",
       "456        rightward     right\n",
       "457       right turn     right\n",
       "\n",
       "[458 rows x 2 columns]"
      ]
     },
     "execution_count": 6,
     "metadata": {},
     "output_type": "execute_result"
    }
   ],
   "source": [
    "# Preprocessing the data\n",
    "# convertin words to lowercase and removing the punctuation\n",
    "import string\n",
    "data['inputs'] = data['inputs'].apply(lambda wrd:[ltrs.lower() for ltrs in wrd if ltrs not in string.punctuation])\n",
    "data['inputs'] = data['inputs'].apply(lambda wrd: ''.join(wrd))\n",
    "data"
   ]
  },
  {
   "cell_type": "code",
   "execution_count": 7,
   "metadata": {
    "colab": {
     "base_uri": "https://localhost:8080/"
    },
    "id": "vg0tOnnIbAWX",
    "outputId": "4b3880db-6474-48b5-8730-45d2f3e7ced2"
   },
   "outputs": [
    {
     "name": "stdout",
     "output_type": "stream",
     "text": [
      "[[  0   0   0 ...   0   0 322]\n",
      " [  0   0   0 ...   8  12  42]\n",
      " [  0   0   0 ...   6 323 236]\n",
      " ...\n",
      " [  0   0   0 ... 321  33 114]\n",
      " [  0   0   0 ...   0   0 571]\n",
      " [  0   0   0 ...   0 114 177]]\n",
      "[ 59  59  59  59  59  59  59  59  59  59  57  57  57  57  57  57  57  57\n",
      "  57  57  57  57  29  29  29  29  29  29  29  29  29  29  29  29  29  29\n",
      "  29  29  74  74  74  74  74  74  74  74  74  74  74  74  74   7   7   7\n",
      "   7   7   7   1   1   1   1   1   1  58  58  58  58  70  70  70  70  61\n",
      "  61  61  61  97  97  97  97  18  18  18  18   9   9   9   9  54  54  54\n",
      "  54   5   5   5   5  72  72  72  72  20  20  20  20 101 101 101 101  79\n",
      "  79  79  79  49  49  49  49   6   6   6   6  23  23  23  23  10  10  10\n",
      "  10  21  21  21  21   2   2   2   2  22  22  22  22   0   0   0   0  44\n",
      "  44  44  44  15  15  15  15  39  39  39  39  40  40  40  40  69  69  69\n",
      "  69  12  12  12  12  43  43  43  43  42  42  42  42  41  41  41  41  77\n",
      "  77  77  77  96  96  96  96  13  13  13  13  19  19  19  19  38  38  38\n",
      "  38  53  53  53  53  76  76  76  76  37  37  37  37  14  14  14  14  86\n",
      "  86  86  86  11  11  11  11  64  64  64  64  94  94  94  94  48  48  48\n",
      "  48  99  99  99  99   4   4   4   4  34  34  34  34  50  50  50  50  36\n",
      "  36  36  36  35  35  35  35  63  63  63  63  25  25  25  25  81  81  81\n",
      "  81   8   8   8   8  62  62  62  62  68  68  68  68  56  56  56  56  98\n",
      "  98  98  98  26  26  26  26  24  24  24  24  27  27  27  27  93  93  93\n",
      "  93   3   3   3   3  51  51  51  51  78  78  78  78  75  75  75  75  80\n",
      "  80  80  80  90  90  90  90  33  33  33  33 100 100 100 100  87  87  87\n",
      "  87  92  92  92  92 102 102 102 102  46  46  46  46  31  31  31  31  85\n",
      "  85  85  85  71  71  71  71  95  95  95  95  30  30  30  30  16  16  16\n",
      "  16  45  45  45  45  65  65  65  65  28  28  28  28  88  88  88  88  83\n",
      "  83  83  83  47  47  47  47  32  32  32  32  55  55  55  55  73  73  73\n",
      "  73  60  60  60  60  89  89  89  89  66  66  66  66  84  84  84  84  91\n",
      "  91  91  52  52  52  52  52  52  17  17  17  17  17  17  67  67  67  67\n",
      "  67  67  82  82  82  82  82  82]\n"
     ]
    }
   ],
   "source": [
    "# tokenize the data\n",
    "from tensorflow.keras.preprocessing.text import Tokenizer\n",
    "tokenizer = Tokenizer(\n",
    "    # num_words=None,\n",
    "    num_words=200000,\n",
    "    filters='!\"#$%&()*+,-./:;<=>?@[\\\\]^_`{|}~\\t\\n',\n",
    "    lower=True,\n",
    "    split=' ',\n",
    "    char_level=False,\n",
    "    oov_token=\"<OOV>\", #OOV means OOV\n",
    "    analyzer=None\n",
    ")\n",
    "tokenizer.fit_on_texts(data['inputs'])\n",
    "train = tokenizer.texts_to_sequences(data['inputs'])\n",
    "\n",
    "#apply padding\n",
    "from tensorflow.keras.preprocessing.sequence import pad_sequences\n",
    "x_train = pad_sequences(train)\n",
    "print(x_train)\n",
    "\n",
    "# encode the outputs\n",
    "from sklearn.preprocessing import LabelEncoder\n",
    "labelEncoder = LabelEncoder()\n",
    "y_train = labelEncoder.fit_transform(data['tags'])\n",
    "print(y_train)"
   ]
  },
  {
   "cell_type": "code",
   "execution_count": 8,
   "metadata": {
    "colab": {
     "base_uri": "https://localhost:8080/"
    },
    "id": "iKIt8FGRbChX",
    "outputId": "7bdd5bd3-6877-4298-84e0-1fca8471de01"
   },
   "outputs": [
    {
     "name": "stdout",
     "output_type": "stream",
     "text": [
      "22\n"
     ]
    }
   ],
   "source": [
    "input_shape = x_train.shape[1]\n",
    "print(input_shape)"
   ]
  },
  {
   "cell_type": "code",
   "execution_count": 9,
   "metadata": {
    "colab": {
     "base_uri": "https://localhost:8080/"
    },
    "id": "h_kYHscJbErG",
    "outputId": "ea2074f0-3f76-4a12-de65-8e208b3c6948"
   },
   "outputs": [
    {
     "name": "stdout",
     "output_type": "stream",
     "text": [
      "number of unique words 571\n",
      "output length: 103\n"
     ]
    }
   ],
   "source": [
    "# define vocabulary\n",
    "vocabulary = len(tokenizer.word_index)\n",
    "print(\"number of unique words\", vocabulary)\n",
    "output_length = labelEncoder.classes_.shape[0]\n",
    "print(\"output length:\", output_length)\n"
   ]
  },
  {
   "cell_type": "code",
   "execution_count": 10,
   "metadata": {
    "colab": {
     "base_uri": "https://localhost:8080/"
    },
    "id": "PduiYmYrbGhZ",
    "outputId": "3311dce7-e214-4b07-89b5-b9392e317ef1"
   },
   "outputs": [
    {
     "name": "stdout",
     "output_type": "stream",
     "text": [
      "Model: \"model\"\n",
      "_________________________________________________________________\n",
      " Layer (type)                Output Shape              Param #   \n",
      "=================================================================\n",
      " input_1 (InputLayer)        [(None, 22)]              0         \n",
      "                                                                 \n",
      " embedding (Embedding)       (None, 22, 10)            5720      \n",
      "                                                                 \n",
      " lstm (LSTM)                 (None, 22, 10)            840       \n",
      "                                                                 \n",
      " flatten (Flatten)           (None, 220)               0         \n",
      "                                                                 \n",
      " dense (Dense)               (None, 103)               22763     \n",
      "                                                                 \n",
      "=================================================================\n",
      "Total params: 29323 (114.54 KB)\n",
      "Trainable params: 29323 (114.54 KB)\n",
      "Non-trainable params: 0 (0.00 Byte)\n",
      "_________________________________________________________________\n"
     ]
    }
   ],
   "source": [
    "# creating the model\n",
    "i = Input(shape=(input_shape,))\n",
    "x = Embedding(vocabulary+1,10)(i)\n",
    "x = LSTM(10,return_sequences=True)(x)\n",
    "x = Flatten()(x)\n",
    "x = Dense(output_length,activation=\"softmax\")(x)\n",
    "model = Model(i,x)\n",
    "model.compile(loss=\"sparse_categorical_crossentropy\",optimizer=\"adam\",metrics=['accuracy'])\n",
    "\n",
    "# Print the model summary\n",
    "model.summary()"
   ]
  },
  {
   "cell_type": "code",
   "execution_count": 11,
   "metadata": {
    "colab": {
     "base_uri": "https://localhost:8080/"
    },
    "id": "SETrKEx8bIel",
    "outputId": "9cf52e9b-0b87-4c16-8987-d265731922c6"
   },
   "outputs": [
    {
     "name": "stdout",
     "output_type": "stream",
     "text": [
      "Epoch 1/200\n",
      "15/15 [==============================] - 2s 12ms/step - loss: 4.6343 - accuracy: 0.0284\n",
      "Epoch 2/200\n",
      "15/15 [==============================] - 0s 11ms/step - loss: 4.6237 - accuracy: 0.0284\n",
      "Epoch 3/200\n",
      "15/15 [==============================] - 0s 10ms/step - loss: 4.6083 - accuracy: 0.0284\n",
      "Epoch 4/200\n",
      "15/15 [==============================] - 0s 10ms/step - loss: 4.5696 - accuracy: 0.0240\n",
      "Epoch 5/200\n",
      "15/15 [==============================] - 0s 10ms/step - loss: 4.5166 - accuracy: 0.0328\n",
      "Epoch 6/200\n",
      "15/15 [==============================] - 0s 10ms/step - loss: 4.4529 - accuracy: 0.0415\n",
      "Epoch 7/200\n",
      "15/15 [==============================] - 0s 10ms/step - loss: 4.3766 - accuracy: 0.0437\n",
      "Epoch 8/200\n",
      "15/15 [==============================] - 0s 9ms/step - loss: 4.2995 - accuracy: 0.0459\n",
      "Epoch 9/200\n",
      "15/15 [==============================] - 0s 9ms/step - loss: 4.2091 - accuracy: 0.0415\n",
      "Epoch 10/200\n",
      "15/15 [==============================] - 0s 9ms/step - loss: 4.1282 - accuracy: 0.0502\n",
      "Epoch 11/200\n",
      "15/15 [==============================] - 0s 9ms/step - loss: 4.0701 - accuracy: 0.0524\n",
      "Epoch 12/200\n",
      "15/15 [==============================] - 0s 9ms/step - loss: 3.9950 - accuracy: 0.0459\n",
      "Epoch 13/200\n",
      "15/15 [==============================] - 0s 9ms/step - loss: 3.9304 - accuracy: 0.0590\n",
      "Epoch 14/200\n",
      "15/15 [==============================] - 0s 9ms/step - loss: 3.8724 - accuracy: 0.0546\n",
      "Epoch 15/200\n",
      "15/15 [==============================] - 0s 10ms/step - loss: 3.8140 - accuracy: 0.0721\n",
      "Epoch 16/200\n",
      "15/15 [==============================] - 0s 9ms/step - loss: 3.7553 - accuracy: 0.0742\n",
      "Epoch 17/200\n",
      "15/15 [==============================] - 0s 10ms/step - loss: 3.6992 - accuracy: 0.0764\n",
      "Epoch 18/200\n",
      "15/15 [==============================] - 0s 10ms/step - loss: 3.6437 - accuracy: 0.0961\n",
      "Epoch 19/200\n",
      "15/15 [==============================] - 0s 10ms/step - loss: 3.5738 - accuracy: 0.0939\n",
      "Epoch 20/200\n",
      "15/15 [==============================] - 0s 9ms/step - loss: 3.5153 - accuracy: 0.1092\n",
      "Epoch 21/200\n",
      "15/15 [==============================] - 0s 9ms/step - loss: 3.4449 - accuracy: 0.1288\n",
      "Epoch 22/200\n",
      "15/15 [==============================] - 0s 10ms/step - loss: 3.3888 - accuracy: 0.1266\n",
      "Epoch 23/200\n",
      "15/15 [==============================] - 0s 10ms/step - loss: 3.3324 - accuracy: 0.1550\n",
      "Epoch 24/200\n",
      "15/15 [==============================] - 0s 10ms/step - loss: 3.2793 - accuracy: 0.1463\n",
      "Epoch 25/200\n",
      "15/15 [==============================] - 0s 10ms/step - loss: 3.2185 - accuracy: 0.1703\n",
      "Epoch 26/200\n",
      "15/15 [==============================] - 0s 9ms/step - loss: 3.1593 - accuracy: 0.2052\n",
      "Epoch 27/200\n",
      "15/15 [==============================] - 0s 10ms/step - loss: 3.1000 - accuracy: 0.2096\n",
      "Epoch 28/200\n",
      "15/15 [==============================] - 0s 9ms/step - loss: 3.0532 - accuracy: 0.2249\n",
      "Epoch 29/200\n",
      "15/15 [==============================] - 0s 9ms/step - loss: 2.9842 - accuracy: 0.2664\n",
      "Epoch 30/200\n",
      "15/15 [==============================] - 0s 9ms/step - loss: 2.9388 - accuracy: 0.2576\n",
      "Epoch 31/200\n",
      "15/15 [==============================] - 0s 9ms/step - loss: 2.8769 - accuracy: 0.2795\n",
      "Epoch 32/200\n",
      "15/15 [==============================] - 0s 9ms/step - loss: 2.8234 - accuracy: 0.3100\n",
      "Epoch 33/200\n",
      "15/15 [==============================] - 0s 9ms/step - loss: 2.7696 - accuracy: 0.3144\n",
      "Epoch 34/200\n",
      "15/15 [==============================] - 0s 10ms/step - loss: 2.7215 - accuracy: 0.3297\n",
      "Epoch 35/200\n",
      "15/15 [==============================] - 0s 9ms/step - loss: 2.6557 - accuracy: 0.3559\n",
      "Epoch 36/200\n",
      "15/15 [==============================] - 0s 10ms/step - loss: 2.6034 - accuracy: 0.3799\n",
      "Epoch 37/200\n",
      "15/15 [==============================] - 0s 9ms/step - loss: 2.5510 - accuracy: 0.4148\n",
      "Epoch 38/200\n",
      "15/15 [==============================] - 0s 9ms/step - loss: 2.5186 - accuracy: 0.3974\n",
      "Epoch 39/200\n",
      "15/15 [==============================] - 0s 9ms/step - loss: 2.4628 - accuracy: 0.4170\n",
      "Epoch 40/200\n",
      "15/15 [==============================] - 0s 10ms/step - loss: 2.3983 - accuracy: 0.4541\n",
      "Epoch 41/200\n",
      "15/15 [==============================] - 0s 10ms/step - loss: 2.3471 - accuracy: 0.4803\n",
      "Epoch 42/200\n",
      "15/15 [==============================] - 0s 9ms/step - loss: 2.3049 - accuracy: 0.4651\n",
      "Epoch 43/200\n",
      "15/15 [==============================] - 0s 9ms/step - loss: 2.2562 - accuracy: 0.4956\n",
      "Epoch 44/200\n",
      "15/15 [==============================] - 0s 9ms/step - loss: 2.2058 - accuracy: 0.4978\n",
      "Epoch 45/200\n",
      "15/15 [==============================] - 0s 9ms/step - loss: 2.1621 - accuracy: 0.5240\n",
      "Epoch 46/200\n",
      "15/15 [==============================] - 0s 9ms/step - loss: 2.1162 - accuracy: 0.5524\n",
      "Epoch 47/200\n",
      "15/15 [==============================] - 0s 10ms/step - loss: 2.0752 - accuracy: 0.5459\n",
      "Epoch 48/200\n",
      "15/15 [==============================] - 0s 9ms/step - loss: 2.0410 - accuracy: 0.5480\n",
      "Epoch 49/200\n",
      "15/15 [==============================] - 0s 9ms/step - loss: 2.0105 - accuracy: 0.5655\n",
      "Epoch 50/200\n",
      "15/15 [==============================] - 0s 9ms/step - loss: 1.9588 - accuracy: 0.5852\n",
      "Epoch 51/200\n",
      "15/15 [==============================] - 0s 9ms/step - loss: 1.9228 - accuracy: 0.5742\n",
      "Epoch 52/200\n",
      "15/15 [==============================] - 0s 9ms/step - loss: 1.8732 - accuracy: 0.6048\n",
      "Epoch 53/200\n",
      "15/15 [==============================] - 0s 9ms/step - loss: 1.8333 - accuracy: 0.6157\n",
      "Epoch 54/200\n",
      "15/15 [==============================] - 0s 9ms/step - loss: 1.7997 - accuracy: 0.6266\n",
      "Epoch 55/200\n",
      "15/15 [==============================] - 0s 9ms/step - loss: 1.7651 - accuracy: 0.6354\n",
      "Epoch 56/200\n",
      "15/15 [==============================] - 0s 9ms/step - loss: 1.7335 - accuracy: 0.6419\n",
      "Epoch 57/200\n",
      "15/15 [==============================] - 0s 9ms/step - loss: 1.6983 - accuracy: 0.6397\n",
      "Epoch 58/200\n",
      "15/15 [==============================] - 0s 10ms/step - loss: 1.6623 - accuracy: 0.6528\n",
      "Epoch 59/200\n",
      "15/15 [==============================] - 0s 10ms/step - loss: 1.6357 - accuracy: 0.6376\n",
      "Epoch 60/200\n",
      "15/15 [==============================] - 0s 9ms/step - loss: 1.6032 - accuracy: 0.6572\n",
      "Epoch 61/200\n",
      "15/15 [==============================] - 0s 9ms/step - loss: 1.5739 - accuracy: 0.6659\n",
      "Epoch 62/200\n",
      "15/15 [==============================] - 0s 10ms/step - loss: 1.5455 - accuracy: 0.6747\n",
      "Epoch 63/200\n",
      "15/15 [==============================] - 0s 9ms/step - loss: 1.5121 - accuracy: 0.6921\n",
      "Epoch 64/200\n",
      "15/15 [==============================] - 0s 11ms/step - loss: 1.4903 - accuracy: 0.7031\n",
      "Epoch 65/200\n",
      "15/15 [==============================] - 0s 9ms/step - loss: 1.4558 - accuracy: 0.7140\n",
      "Epoch 66/200\n",
      "15/15 [==============================] - 0s 9ms/step - loss: 1.4256 - accuracy: 0.7096\n",
      "Epoch 67/200\n",
      "15/15 [==============================] - 0s 10ms/step - loss: 1.4004 - accuracy: 0.7336\n",
      "Epoch 68/200\n",
      "15/15 [==============================] - 0s 9ms/step - loss: 1.3747 - accuracy: 0.7576\n",
      "Epoch 69/200\n",
      "15/15 [==============================] - 0s 10ms/step - loss: 1.3566 - accuracy: 0.7402\n",
      "Epoch 70/200\n",
      "15/15 [==============================] - 0s 9ms/step - loss: 1.3240 - accuracy: 0.7598\n",
      "Epoch 71/200\n",
      "15/15 [==============================] - 0s 9ms/step - loss: 1.3015 - accuracy: 0.7751\n",
      "Epoch 72/200\n",
      "15/15 [==============================] - 0s 9ms/step - loss: 1.2807 - accuracy: 0.7555\n",
      "Epoch 73/200\n",
      "15/15 [==============================] - 0s 9ms/step - loss: 1.2654 - accuracy: 0.7555\n",
      "Epoch 74/200\n",
      "15/15 [==============================] - 0s 9ms/step - loss: 1.2308 - accuracy: 0.7795\n",
      "Epoch 75/200\n",
      "15/15 [==============================] - 0s 10ms/step - loss: 1.2150 - accuracy: 0.7511\n",
      "Epoch 76/200\n",
      "15/15 [==============================] - 0s 9ms/step - loss: 1.1943 - accuracy: 0.7773\n",
      "Epoch 77/200\n",
      "15/15 [==============================] - 0s 9ms/step - loss: 1.1719 - accuracy: 0.7707\n",
      "Epoch 78/200\n",
      "15/15 [==============================] - 0s 9ms/step - loss: 1.1473 - accuracy: 0.7795\n",
      "Epoch 79/200\n",
      "15/15 [==============================] - 0s 9ms/step - loss: 1.1271 - accuracy: 0.7773\n",
      "Epoch 80/200\n",
      "15/15 [==============================] - 0s 9ms/step - loss: 1.1083 - accuracy: 0.7948\n",
      "Epoch 81/200\n",
      "15/15 [==============================] - 0s 9ms/step - loss: 1.0877 - accuracy: 0.8079\n",
      "Epoch 82/200\n"
     ]
    },
    {
     "name": "stdout",
     "output_type": "stream",
     "text": [
      "15/15 [==============================] - 0s 8ms/step - loss: 1.0661 - accuracy: 0.8013\n",
      "Epoch 83/200\n",
      "15/15 [==============================] - 0s 10ms/step - loss: 1.0528 - accuracy: 0.8166\n",
      "Epoch 84/200\n",
      "15/15 [==============================] - 0s 10ms/step - loss: 1.0301 - accuracy: 0.8210\n",
      "Epoch 85/200\n",
      "15/15 [==============================] - 0s 9ms/step - loss: 1.0184 - accuracy: 0.8057\n",
      "Epoch 86/200\n",
      "15/15 [==============================] - 0s 10ms/step - loss: 0.9995 - accuracy: 0.8493\n",
      "Epoch 87/200\n",
      "15/15 [==============================] - 0s 9ms/step - loss: 0.9782 - accuracy: 0.8253\n",
      "Epoch 88/200\n",
      "15/15 [==============================] - 0s 10ms/step - loss: 0.9638 - accuracy: 0.8319\n",
      "Epoch 89/200\n",
      "15/15 [==============================] - 0s 10ms/step - loss: 0.9476 - accuracy: 0.8472\n",
      "Epoch 90/200\n",
      "15/15 [==============================] - 0s 9ms/step - loss: 0.9345 - accuracy: 0.8275\n",
      "Epoch 91/200\n",
      "15/15 [==============================] - 0s 10ms/step - loss: 0.9159 - accuracy: 0.8319\n",
      "Epoch 92/200\n",
      "15/15 [==============================] - 0s 9ms/step - loss: 0.9034 - accuracy: 0.8515\n",
      "Epoch 93/200\n",
      "15/15 [==============================] - 0s 9ms/step - loss: 0.8882 - accuracy: 0.8428\n",
      "Epoch 94/200\n",
      "15/15 [==============================] - 0s 9ms/step - loss: 0.8750 - accuracy: 0.8515\n",
      "Epoch 95/200\n",
      "15/15 [==============================] - 0s 9ms/step - loss: 0.8674 - accuracy: 0.8297\n",
      "Epoch 96/200\n",
      "15/15 [==============================] - 0s 9ms/step - loss: 0.8427 - accuracy: 0.8406\n",
      "Epoch 97/200\n",
      "15/15 [==============================] - 0s 9ms/step - loss: 0.8287 - accuracy: 0.8668\n",
      "Epoch 98/200\n",
      "15/15 [==============================] - 0s 9ms/step - loss: 0.8109 - accuracy: 0.8690\n",
      "Epoch 99/200\n",
      "15/15 [==============================] - 0s 9ms/step - loss: 0.8072 - accuracy: 0.8690\n",
      "Epoch 100/200\n",
      "15/15 [==============================] - 0s 10ms/step - loss: 0.7875 - accuracy: 0.8624\n",
      "Epoch 101/200\n",
      "15/15 [==============================] - 0s 9ms/step - loss: 0.7727 - accuracy: 0.8821\n",
      "Epoch 102/200\n",
      "15/15 [==============================] - 0s 9ms/step - loss: 0.7672 - accuracy: 0.8843\n",
      "Epoch 103/200\n",
      "15/15 [==============================] - 0s 11ms/step - loss: 0.7522 - accuracy: 0.8581\n",
      "Epoch 104/200\n",
      "15/15 [==============================] - 0s 11ms/step - loss: 0.7370 - accuracy: 0.8952\n",
      "Epoch 105/200\n",
      "15/15 [==============================] - 0s 11ms/step - loss: 0.7247 - accuracy: 0.8843\n",
      "Epoch 106/200\n",
      "15/15 [==============================] - 0s 10ms/step - loss: 0.7176 - accuracy: 0.8865\n",
      "Epoch 107/200\n",
      "15/15 [==============================] - 0s 10ms/step - loss: 0.7042 - accuracy: 0.8690\n",
      "Epoch 108/200\n",
      "15/15 [==============================] - 0s 11ms/step - loss: 0.6890 - accuracy: 0.8821\n",
      "Epoch 109/200\n",
      "15/15 [==============================] - 0s 9ms/step - loss: 0.6814 - accuracy: 0.9039\n",
      "Epoch 110/200\n",
      "15/15 [==============================] - 0s 10ms/step - loss: 0.6691 - accuracy: 0.9105\n",
      "Epoch 111/200\n",
      "15/15 [==============================] - 0s 10ms/step - loss: 0.6570 - accuracy: 0.9083\n",
      "Epoch 112/200\n",
      "15/15 [==============================] - 0s 10ms/step - loss: 0.6483 - accuracy: 0.8974\n",
      "Epoch 113/200\n",
      "15/15 [==============================] - 0s 11ms/step - loss: 0.6407 - accuracy: 0.9017\n",
      "Epoch 114/200\n",
      "15/15 [==============================] - 0s 9ms/step - loss: 0.6233 - accuracy: 0.9127\n",
      "Epoch 115/200\n",
      "15/15 [==============================] - 0s 10ms/step - loss: 0.6160 - accuracy: 0.9236\n",
      "Epoch 116/200\n",
      "15/15 [==============================] - 0s 9ms/step - loss: 0.6054 - accuracy: 0.9170\n",
      "Epoch 117/200\n",
      "15/15 [==============================] - 0s 9ms/step - loss: 0.5993 - accuracy: 0.9127\n",
      "Epoch 118/200\n",
      "15/15 [==============================] - 0s 10ms/step - loss: 0.5910 - accuracy: 0.9170\n",
      "Epoch 119/200\n",
      "15/15 [==============================] - 0s 10ms/step - loss: 0.5831 - accuracy: 0.9258\n",
      "Epoch 120/200\n",
      "15/15 [==============================] - 0s 10ms/step - loss: 0.5674 - accuracy: 0.9279\n",
      "Epoch 121/200\n",
      "15/15 [==============================] - 0s 10ms/step - loss: 0.5586 - accuracy: 0.9236\n",
      "Epoch 122/200\n",
      "15/15 [==============================] - 0s 9ms/step - loss: 0.5528 - accuracy: 0.9367\n",
      "Epoch 123/200\n",
      "15/15 [==============================] - 0s 10ms/step - loss: 0.5430 - accuracy: 0.9432\n",
      "Epoch 124/200\n",
      "15/15 [==============================] - 0s 10ms/step - loss: 0.5318 - accuracy: 0.9389\n",
      "Epoch 125/200\n",
      "15/15 [==============================] - 0s 9ms/step - loss: 0.5209 - accuracy: 0.9498\n",
      "Epoch 126/200\n",
      "15/15 [==============================] - 0s 9ms/step - loss: 0.5160 - accuracy: 0.9476\n",
      "Epoch 127/200\n",
      "15/15 [==============================] - 0s 9ms/step - loss: 0.5057 - accuracy: 0.9541\n",
      "Epoch 128/200\n",
      "15/15 [==============================] - 0s 10ms/step - loss: 0.5015 - accuracy: 0.9585\n",
      "Epoch 129/200\n",
      "15/15 [==============================] - 0s 10ms/step - loss: 0.4926 - accuracy: 0.9454\n",
      "Epoch 130/200\n",
      "15/15 [==============================] - 0s 9ms/step - loss: 0.4842 - accuracy: 0.9541\n",
      "Epoch 131/200\n",
      "15/15 [==============================] - 0s 9ms/step - loss: 0.4736 - accuracy: 0.9629\n",
      "Epoch 132/200\n",
      "15/15 [==============================] - 0s 9ms/step - loss: 0.4679 - accuracy: 0.9672\n",
      "Epoch 133/200\n",
      "15/15 [==============================] - 0s 10ms/step - loss: 0.4579 - accuracy: 0.9585\n",
      "Epoch 134/200\n",
      "15/15 [==============================] - 0s 10ms/step - loss: 0.4544 - accuracy: 0.9607\n",
      "Epoch 135/200\n",
      "15/15 [==============================] - 0s 10ms/step - loss: 0.4466 - accuracy: 0.9694\n",
      "Epoch 136/200\n",
      "15/15 [==============================] - 0s 9ms/step - loss: 0.4388 - accuracy: 0.9672\n",
      "Epoch 137/200\n",
      "15/15 [==============================] - 0s 9ms/step - loss: 0.4300 - accuracy: 0.9651\n",
      "Epoch 138/200\n",
      "15/15 [==============================] - 0s 10ms/step - loss: 0.4249 - accuracy: 0.9672\n",
      "Epoch 139/200\n",
      "15/15 [==============================] - 0s 10ms/step - loss: 0.4173 - accuracy: 0.9738\n",
      "Epoch 140/200\n",
      "15/15 [==============================] - 0s 10ms/step - loss: 0.4144 - accuracy: 0.9629\n",
      "Epoch 141/200\n",
      "15/15 [==============================] - 0s 9ms/step - loss: 0.4104 - accuracy: 0.9694\n",
      "Epoch 142/200\n",
      "15/15 [==============================] - 0s 8ms/step - loss: 0.4044 - accuracy: 0.9672\n",
      "Epoch 143/200\n",
      "15/15 [==============================] - 0s 9ms/step - loss: 0.3924 - accuracy: 0.9651\n",
      "Epoch 144/200\n",
      "15/15 [==============================] - 0s 9ms/step - loss: 0.3889 - accuracy: 0.9629\n",
      "Epoch 145/200\n",
      "15/15 [==============================] - 0s 9ms/step - loss: 0.3814 - accuracy: 0.9672\n",
      "Epoch 146/200\n",
      "15/15 [==============================] - 0s 9ms/step - loss: 0.3775 - accuracy: 0.9694\n",
      "Epoch 147/200\n",
      "15/15 [==============================] - 0s 9ms/step - loss: 0.3676 - accuracy: 0.9738\n",
      "Epoch 148/200\n",
      "15/15 [==============================] - 0s 10ms/step - loss: 0.3617 - accuracy: 0.9782\n",
      "Epoch 149/200\n",
      "15/15 [==============================] - 0s 10ms/step - loss: 0.3552 - accuracy: 0.9825\n",
      "Epoch 150/200\n",
      "15/15 [==============================] - 0s 9ms/step - loss: 0.3529 - accuracy: 0.9738\n",
      "Epoch 151/200\n",
      "15/15 [==============================] - 0s 10ms/step - loss: 0.3440 - accuracy: 0.9803\n",
      "Epoch 152/200\n",
      "15/15 [==============================] - 0s 9ms/step - loss: 0.3392 - accuracy: 0.9716\n",
      "Epoch 153/200\n",
      "15/15 [==============================] - 0s 10ms/step - loss: 0.3341 - accuracy: 0.9847\n",
      "Epoch 154/200\n",
      "15/15 [==============================] - 0s 9ms/step - loss: 0.3313 - accuracy: 0.9825\n",
      "Epoch 155/200\n",
      "15/15 [==============================] - 0s 10ms/step - loss: 0.3249 - accuracy: 0.9760\n",
      "Epoch 156/200\n",
      "15/15 [==============================] - 0s 9ms/step - loss: 0.3210 - accuracy: 0.9803\n",
      "Epoch 157/200\n",
      "15/15 [==============================] - 0s 9ms/step - loss: 0.3157 - accuracy: 0.9803\n",
      "Epoch 158/200\n",
      "15/15 [==============================] - 0s 9ms/step - loss: 0.3074 - accuracy: 0.9847\n",
      "Epoch 159/200\n",
      "15/15 [==============================] - 0s 9ms/step - loss: 0.3065 - accuracy: 0.9760\n",
      "Epoch 160/200\n",
      "15/15 [==============================] - 0s 9ms/step - loss: 0.3014 - accuracy: 0.9847\n",
      "Epoch 161/200\n",
      "15/15 [==============================] - 0s 9ms/step - loss: 0.2966 - accuracy: 0.9803\n",
      "Epoch 162/200\n",
      "15/15 [==============================] - 0s 9ms/step - loss: 0.2905 - accuracy: 0.9847\n",
      "Epoch 163/200\n"
     ]
    },
    {
     "name": "stdout",
     "output_type": "stream",
     "text": [
      "15/15 [==============================] - 0s 9ms/step - loss: 0.2868 - accuracy: 0.9825\n",
      "Epoch 164/200\n",
      "15/15 [==============================] - 0s 10ms/step - loss: 0.2830 - accuracy: 0.9847\n",
      "Epoch 165/200\n",
      "15/15 [==============================] - 0s 9ms/step - loss: 0.2793 - accuracy: 0.9869\n",
      "Epoch 166/200\n",
      "15/15 [==============================] - 0s 9ms/step - loss: 0.2731 - accuracy: 0.9891\n",
      "Epoch 167/200\n",
      "15/15 [==============================] - 0s 9ms/step - loss: 0.2699 - accuracy: 0.9869\n",
      "Epoch 168/200\n",
      "15/15 [==============================] - 0s 9ms/step - loss: 0.2656 - accuracy: 0.9825\n",
      "Epoch 169/200\n",
      "15/15 [==============================] - 0s 10ms/step - loss: 0.2646 - accuracy: 0.9825\n",
      "Epoch 170/200\n",
      "15/15 [==============================] - 0s 10ms/step - loss: 0.2611 - accuracy: 0.9803\n",
      "Epoch 171/200\n",
      "15/15 [==============================] - 0s 9ms/step - loss: 0.2536 - accuracy: 0.9913\n",
      "Epoch 172/200\n",
      "15/15 [==============================] - 0s 10ms/step - loss: 0.2497 - accuracy: 0.9869\n",
      "Epoch 173/200\n",
      "15/15 [==============================] - 0s 9ms/step - loss: 0.2480 - accuracy: 0.9891\n",
      "Epoch 174/200\n",
      "15/15 [==============================] - 0s 9ms/step - loss: 0.2445 - accuracy: 0.9891\n",
      "Epoch 175/200\n",
      "15/15 [==============================] - 0s 9ms/step - loss: 0.2412 - accuracy: 0.9847\n",
      "Epoch 176/200\n",
      "15/15 [==============================] - 0s 9ms/step - loss: 0.2370 - accuracy: 0.9891\n",
      "Epoch 177/200\n",
      "15/15 [==============================] - 0s 9ms/step - loss: 0.2338 - accuracy: 0.9869\n",
      "Epoch 178/200\n",
      "15/15 [==============================] - 0s 10ms/step - loss: 0.2300 - accuracy: 0.9913\n",
      "Epoch 179/200\n",
      "15/15 [==============================] - 0s 10ms/step - loss: 0.2274 - accuracy: 0.9825\n",
      "Epoch 180/200\n",
      "15/15 [==============================] - 0s 10ms/step - loss: 0.2255 - accuracy: 0.9847\n",
      "Epoch 181/200\n",
      "15/15 [==============================] - 0s 9ms/step - loss: 0.2234 - accuracy: 0.9891\n",
      "Epoch 182/200\n",
      "15/15 [==============================] - 0s 9ms/step - loss: 0.2169 - accuracy: 0.9847\n",
      "Epoch 183/200\n",
      "15/15 [==============================] - 0s 10ms/step - loss: 0.2165 - accuracy: 0.9891\n",
      "Epoch 184/200\n",
      "15/15 [==============================] - 0s 9ms/step - loss: 0.2125 - accuracy: 0.9869\n",
      "Epoch 185/200\n",
      "15/15 [==============================] - 0s 10ms/step - loss: 0.2106 - accuracy: 0.9869\n",
      "Epoch 186/200\n",
      "15/15 [==============================] - 0s 11ms/step - loss: 0.2059 - accuracy: 0.9891\n",
      "Epoch 187/200\n",
      "15/15 [==============================] - 0s 10ms/step - loss: 0.2075 - accuracy: 0.9869\n",
      "Epoch 188/200\n",
      "15/15 [==============================] - 0s 10ms/step - loss: 0.2003 - accuracy: 0.9934\n",
      "Epoch 189/200\n",
      "15/15 [==============================] - 0s 10ms/step - loss: 0.1975 - accuracy: 0.9891\n",
      "Epoch 190/200\n",
      "15/15 [==============================] - 0s 9ms/step - loss: 0.1949 - accuracy: 0.9869\n",
      "Epoch 191/200\n",
      "15/15 [==============================] - 0s 10ms/step - loss: 0.1915 - accuracy: 0.9869\n",
      "Epoch 192/200\n",
      "15/15 [==============================] - 0s 9ms/step - loss: 0.1887 - accuracy: 0.9891\n",
      "Epoch 193/200\n",
      "15/15 [==============================] - 0s 10ms/step - loss: 0.1869 - accuracy: 0.9869\n",
      "Epoch 194/200\n",
      "15/15 [==============================] - 0s 10ms/step - loss: 0.1855 - accuracy: 0.9913\n",
      "Epoch 195/200\n",
      "15/15 [==============================] - 0s 9ms/step - loss: 0.1830 - accuracy: 0.9934\n",
      "Epoch 196/200\n",
      "15/15 [==============================] - 0s 11ms/step - loss: 0.1815 - accuracy: 0.9934\n",
      "Epoch 197/200\n",
      "15/15 [==============================] - 0s 9ms/step - loss: 0.1783 - accuracy: 0.9913\n",
      "Epoch 198/200\n",
      "15/15 [==============================] - 0s 9ms/step - loss: 0.1760 - accuracy: 0.9934\n",
      "Epoch 199/200\n",
      "15/15 [==============================] - 0s 10ms/step - loss: 0.1728 - accuracy: 0.9913\n",
      "Epoch 200/200\n",
      "15/15 [==============================] - 0s 8ms/step - loss: 0.1704 - accuracy: 0.9913\n"
     ]
    }
   ],
   "source": [
    "epochs = 200\n",
    "\n",
    "# Train the model\n",
    "history = model.fit(x_train, y_train, epochs=epochs)"
   ]
  },
  {
   "cell_type": "code",
   "execution_count": 12,
   "metadata": {
    "colab": {
     "base_uri": "https://localhost:8080/",
     "height": 448
    },
    "id": "7ATzAn2dbKqn",
    "outputId": "d78a48e8-6b46-42bb-db1d-a933aadb7199"
   },
   "outputs": [
    {
     "data": {
      "text/plain": [
       "<matplotlib.legend.Legend at 0x2168107ca50>"
      ]
     },
     "execution_count": 12,
     "metadata": {},
     "output_type": "execute_result"
    },
    {
     "data": {
      "image/png": "[encoded data removed]",
      "text/plain": [
       "<Figure size 640x480 with 1 Axes>"
      ]
     },
     "metadata": {},
     "output_type": "display_data"
    }
   ],
   "source": [
    "plt.plot(history.history['accuracy'],label='training set accuracy')\n",
    "plt.plot(history.history['loss'],label='training set loss')\n",
    "plt.legend()"
   ]
  },
  {
   "cell_type": "code",
   "execution_count": 13,
   "metadata": {
    "colab": {
     "base_uri": "https://localhost:8080/"
    },
    "id": "q8wWOvmnbNuu",
    "outputId": "d8d0fb27-802d-4eaa-f9e9-d222d84abd3f"
   },
   "outputs": [
    {
     "name": "stderr",
     "output_type": "stream",
     "text": [
      "C:\\Users\\admin\\anaconda3\\Lib\\site-packages\\keras\\src\\engine\\training.py:3000: UserWarning: You are saving your model as an HDF5 file via `model.save()`. This file format is considered legacy. We recommend using instead the native Keras format, e.g. `model.save('my_model.keras')`.\n",
      "  saving_api.save_model(\n"
     ]
    },
    {
     "name": "stdout",
     "output_type": "stream",
     "text": [
      "22\n",
      "You : hi\n",
      "1/1 [==============================] - 0s 378ms/step\n",
      "ROBO ASSISTANT X:::  Hi there, how can I help?\n",
      "You : quit\n",
      "1/1 [==============================] - 0s 19ms/step\n",
      "ROBO ASSISTANT X:::  Good to see you again!\n",
      "At least one word is in the string.\n"
     ]
    }
   ],
   "source": [
    "# code to save mode in pb format and load it for testing purpose\n",
    "#from keras.models import load_model\n",
    "from tensorflow import keras\n",
    "import random\n",
    "import pandas as pd\n",
    "\n",
    "# saving model in h5 file\n",
    "model.save(\"sensing_nlp.h5\")\n",
    "\n",
    "# new_model = load_model(\"sensing_nlp.h5\")\n",
    "new_model = keras.models.load_model(\"sensing_nlp.h5\")\n",
    "# new_model.evaluate()\n",
    "# new_model.summary()\n",
    "print(input_shape)\n",
    "\n",
    "\n",
    "words_to_check = [\"end\", \"quit\", \"terminate\",\"bye\"]\n",
    "word_series = pd.Series(words_to_check)\n",
    "\n",
    "\n",
    "while True:\n",
    "    texts_p=[]\n",
    "    prediction_input_string=input(\"You : \")\n",
    "\n",
    "    # removing punctuation and converting to lowercase\n",
    "    prediction_input = [letters.lower() for letters in prediction_input_string if letters not in string.punctuation]\n",
    "    prediction_input = ''.join(prediction_input)\n",
    "    texts_p.append(prediction_input)\n",
    "\n",
    "    # tokenizing and padding\n",
    "    prediction_input = tokenizer.texts_to_sequences(texts_p)\n",
    "    prediction_input = np.array(prediction_input).reshape(-1)\n",
    "    prediction_input = pad_sequences([prediction_input],input_shape)\n",
    "\n",
    "    output= new_model.predict(prediction_input)\n",
    "    output = output.argmax()\n",
    "\n",
    "    response_tag = labelEncoder.inverse_transform([output])[0]\n",
    "    print(\"ROBO ASSISTANT X::: \",random.choice(responses[response_tag]))\n",
    "\n",
    "    # Initialize a flag to track if any word is found\n",
    "    found = False\n",
    "\n",
    "    if word_series.str.contains(prediction_input_string).any():\n",
    "        print(\"At least one word is in the string.\")\n",
    "        break"
   ]
  },
  {
   "cell_type": "code",
   "execution_count": 14,
   "metadata": {
    "colab": {
     "base_uri": "https://localhost:8080/"
    },
    "id": "CBaoV1VkbP6s",
    "outputId": "eb09be14-8d8d-4176-fbf4-7ad19f20cebb"
   },
   "outputs": [
    {
     "name": "stdout",
     "output_type": "stream",
     "text": [
      "INFO:tensorflow:Assets written to: saved_model/1\\assets\n"
     ]
    },
    {
     "name": "stderr",
     "output_type": "stream",
     "text": [
      "INFO:tensorflow:Assets written to: saved_model/1\\assets\n"
     ]
    }
   ],
   "source": [
    "#exporting the saved model\n",
    "export_dir = 'saved_model/1'\n",
    "tf.saved_model.save(model, export_dir)"
   ]
  },
  {
   "cell_type": "code",
   "execution_count": 15,
   "metadata": {
    "colab": {
     "base_uri": "https://localhost:8080/"
    },
    "id": "Gdp3CKAJDK6K",
    "outputId": "342d7513-ba2a-43e9-eac0-8be870b26afe"
   },
   "outputs": [
    {
     "data": {
      "text/plain": [
       "127068"
      ]
     },
     "execution_count": 15,
     "metadata": {},
     "output_type": "execute_result"
    }
   ],
   "source": [
    "# Convert the model with the help of Tflite converter.\n",
    "import pathlib\n",
    "\n",
    "converter = tf.lite.TFLiteConverter.from_saved_model(export_dir)\n",
    "converter.allow_custom_ops= True\n",
    "converter.target_spec.supported_ops = [\n",
    "    tf.lite.OpsSet.TFLITE_BUILTINS, tf.lite.OpsSet.SELECT_TF_OPS\n",
    "]\n",
    "\n",
    "tflite_model_data = converter.convert()\n",
    "\n",
    "tflite_model_file = pathlib.Path('sensor_nlp_model.tflite')\n",
    "tflite_model_file.write_bytes(tflite_model_data)"
   ]
  },
  {
   "cell_type": "code",
   "execution_count": 16,
   "metadata": {
    "colab": {
     "base_uri": "https://localhost:8080/",
     "height": 17
    },
    "id": "CIxx71pSDWqX",
    "outputId": "23667cc7-5eee-4e73-abea-44a6c5e9a848"
   },
   "outputs": [],
   "source": [
    "#code to download the model\n",
    "try:\n",
    "    from google.colab import files\n",
    "    files.download(tflite_model_file)\n",
    "except:\n",
    "    pass"
   ]
  },
  {
   "cell_type": "code",
   "execution_count": 17,
   "metadata": {
    "colab": {
     "base_uri": "https://localhost:8080/"
    },
    "id": "g7WXyrgoO-Wk",
    "outputId": "dadc0a50-2156-4af3-dd00-5e633b973e74"
   },
   "outputs": [
    {
     "name": "stdout",
     "output_type": "stream",
     "text": [
      "[{'name': 'serving_default_input_1:0', 'index': 0, 'shape': array([ 1, 22]), 'shape_signature': array([-1, 22]), 'dtype': <class 'numpy.float32'>, 'quantization': (0.0, 0), 'quantization_parameters': {'scales': array([], dtype=float32), 'zero_points': array([], dtype=int32), 'quantized_dimension': 0}, 'sparsity_parameters': {}}]\n",
      "[{'name': 'StatefulPartitionedCall:0', 'index': 32, 'shape': array([  1, 103]), 'shape_signature': array([ -1, 103]), 'dtype': <class 'numpy.float32'>, 'quantization': (0.0, 0), 'quantization_parameters': {'scales': array([], dtype=float32), 'zero_points': array([], dtype=int32), 'quantized_dimension': 0}, 'sparsity_parameters': {}}]\n",
      "sensing\n",
      "ROBO ASSISTANT X:::  Vendor support is vital for ongoing security. Manufacturers should provide regular updates and security patches. Users can assess vendor support by reviewing the manufacturer's history of updates and their commitment to security practices.\n"
     ]
    }
   ],
   "source": [
    "#load tflite model and predict it with the help of it\n",
    "# Load the TFLite model\n",
    "from tensorflow.lite.python import interpreter as interpreter_wrapper\n",
    "\n",
    "with open(\"sensor_nlp_model.tflite\", 'rb') as file:\n",
    "    model = file.read()\n",
    "interpreter = interpreter_wrapper.InterpreterWithCustomOps(\n",
    "      model_content=model,\n",
    ")\n",
    "\n",
    "interpreter.allocate_tensors()\n",
    "\n",
    "# Get input and output details\n",
    "input_details = interpreter.get_input_details()\n",
    "output_details = interpreter.get_output_details()\n",
    "print(input_details)\n",
    "print(output_details)\n",
    "\n",
    "new_text = \"sensing\"\n",
    "\n",
    "# Preprocess the input text using tokenizer.texts_to_sequences\n",
    "new_text_sequences = tokenizer.texts_to_sequences([new_text])[0]\n",
    "# Pad or truncate the sequences to match the expected input shape [1, 5]\n",
    "max_sequence_length = 22  # Set this to the expected sequence length of the model\n",
    "new_text_sequences = new_text_sequences[:max_sequence_length]\n",
    "\n",
    "# Pad the sequences if they are shorter than the expected length\n",
    "if len(new_text_sequences) < max_sequence_length:\n",
    "    new_text_sequences += [0] * (max_sequence_length - len(new_text_sequences))\n",
    "\n",
    "new_text_tensor = tf.convert_to_tensor([new_text_sequences], dtype=tf.float32)\n",
    "\n",
    "interpreter.set_tensor(interpreter.get_input_details()[0]['index'],\n",
    "                         new_text_tensor)\n",
    "interpreter.invoke()\n",
    "output = interpreter.get_tensor(interpreter.get_output_details()[0]['index'])\n",
    "# print(output)\n",
    "\n",
    "output_max = output.argmax()\n",
    "# print(output_max)\n",
    "\n",
    "response_tag = labelEncoder.inverse_transform([output_max])[0]\n",
    "print(new_text)\n",
    "print(\"ROBO ASSISTANT X::: \",random.choice(responses[response_tag]))"
   ]
  },
  {
   "cell_type": "code",
   "execution_count": null,
   "metadata": {},
   "outputs": [],
   "source": []
  },
  {
   "cell_type": "code",
   "execution_count": null,
   "metadata": {},
   "outputs": [],
   "source": []
  }
 ],
 "metadata": {
  "colab": {
   "provenance": []
  },
  "kernelspec": {
   "display_name": "Python 3 (ipykernel)",
   "language": "python",
   "name": "python3"
  },
  "language_info": {
   "codemirror_mode": {
    "name": "ipython",
    "version": 3
   },
   "file_extension": ".py",
   "mimetype": "text/x-python",
   "name": "python",
   "nbconvert_exporter": "python",
   "pygments_lexer": "ipython3",
   "version": "3.11.3"
  }
 },
 "nbformat": 4,
 "nbformat_minor": 1
}
