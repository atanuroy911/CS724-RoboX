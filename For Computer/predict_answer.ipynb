{
 "cells": [
  {
   "cell_type": "code",
   "execution_count": null,
   "id": "aa1990f3",
   "metadata": {},
   "outputs": [],
   "source": [
    "# code to save mode in pb format and load it for testing purpose\n",
    "#from keras.models import load_model\n",
    "from tensorflow import keras\n",
    "import random\n",
    "import pandas as pd\n",
    "import string\n",
    "import numpy as np\n",
    "from tensorflow.keras.preprocessing.sequence import pad_sequences\n",
    "\n",
    "new_model = keras.models.load_model(\"sensing_nlp.h5\")\n",
    "new_model.summary()\n",
    "\n",
    "input_shape = 22\n",
    "\n",
    "def predictAnswer(tokenizer,labelEncoder,responses, question):\n",
    "    texts_p=[]\n",
    "\n",
    "    # removing punctuation and converting to lowercase\n",
    "    prediction_input = [letters.lower() for letters in question if letters not in string.punctuation]\n",
    "    prediction_input = ''.join(prediction_input)\n",
    "    texts_p.append(prediction_input)\n",
    "\n",
    "    # tokenizing and padding\n",
    "    prediction_input = tokenizer.texts_to_sequences(texts_p)\n",
    "    prediction_input = np.array(prediction_input).reshape(-1)\n",
    "    prediction_input = pad_sequences([prediction_input],input_shape)\n",
    "\n",
    "    output= new_model.predict(prediction_input)\n",
    "    output = output.argmax()\n",
    "\n",
    "    response_tag = labelEncoder.inverse_transform([output])[0]\n",
    "    answer = random.choice(responses[response_tag])\n",
    "    print(\"ROBO ASSISTANT X::: \",answer)\n",
    "    return answer"
   ]
  },
  {
   "cell_type": "code",
   "execution_count": null,
   "id": "fb669f1a",
   "metadata": {},
   "outputs": [],
   "source": []
  }
 ],
 "metadata": {
  "kernelspec": {
   "display_name": "Python 3 (ipykernel)",
   "language": "python",
   "name": "python3"
  },
  "language_info": {
   "codemirror_mode": {
    "name": "ipython",
    "version": 3
   },
   "file_extension": ".py",
   "mimetype": "text/x-python",
   "name": "python",
   "nbconvert_exporter": "python",
   "pygments_lexer": "ipython3",
   "version": "3.11.3"
  }
 },
 "nbformat": 4,
 "nbformat_minor": 5
}
